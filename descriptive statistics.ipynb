{
 "cells": [
  {
   "cell_type": "code",
   "execution_count": 8,
   "id": "c6356ccb-bd2b-4e4b-86d7-db001f8d2c13",
   "metadata": {},
   "outputs": [
    {
     "name": "stdout",
     "output_type": "stream",
     "text": [
      "Max of Age : 90\n",
      "Min of Age : 5\n",
      "Range of Age : 85\n",
      "Mean of Age : 48.0\n",
      "Mode of Age : 60\n",
      "Variance of Age : 445.46\n",
      "Standard Deviance of Age : 21.11\n",
      "\n",
      "Max of Billing Amount : 99997.79797710298\n",
      "Min of Billing Amount : 500.22098943266377\n",
      "Range of Billing Amount : 99497.57698767031\n",
      "Mean of Billing Amount : 21835.04\n",
      "Mode of Billing Amount : 2212.27\n",
      "Variance of Billing Amount : 555752976.28\n",
      "Standard Deviance of Billing Amount : 23574.41\n",
      "\n",
      "Max of Length Of Stay : 89\n",
      "Min of Length Of Stay : 1\n",
      "Range of Length Of Stay : 88\n",
      "Mean of Length Of Stay : 17.84\n",
      "Mode of Length Of Stay : 3\n",
      "Variance of Length Of Stay : 410.97\n",
      "Standard Deviance of Length Of Stay : 20.27\n",
      "\n"
     ]
    }
   ],
   "source": [
    "import pandas as pd\n",
    "import statistics\n",
    "import numpy as np\n",
    "\n",
    "# Declaration\n",
    "data = pd.read_csv(\"modified_healthcare_dataset.csv\")\n",
    "\n",
    "target_col = ['Age','Billing Amount','Length of Stay']\n",
    "\n",
    "for dt in target_col:\n",
    "    # Convert to int\n",
    "    data[dt] = pd.to_numeric(data[dt], errors='coerce')\n",
    "    \n",
    "    # Remove NaN\n",
    "    data = data.dropna(subset=[dt])\n",
    "\n",
    "    max_val = data[dt].max()\n",
    "    min_val = data[dt].min()\n",
    "    range_val = max_val - min_val\n",
    "    mean = round(data[dt].mean(),2)\n",
    "    mode = round(statistics.mode(data[dt]),2)\n",
    "    var = round(np.nanvar(data[dt],ddof=1),2)\n",
    "    std = round(var ** 0.5,2)\n",
    "\n",
    "    print(f\"Max of {dt.title()} : {max_val}\")\n",
    "    print(f\"Min of {dt.title()} : {min_val}\")\n",
    "    print(f\"Range of {dt.title()} : {range_val}\")\n",
    "    print(f\"Mean of {dt.title()} : {mean}\")\n",
    "    print(f\"Mode of {dt.title()} : {mode}\")\n",
    "    print(f\"Variance of {dt.title()} : {var}\")\n",
    "    print(f\"Standard Deviance of {dt.title()} : {std}\\n\")"
   ]
  },
  {
   "cell_type": "code",
   "execution_count": null,
   "id": "ee5901b6-4a39-48a8-b832-b9b534cfa330",
   "metadata": {},
   "outputs": [],
   "source": []
  }
 ],
 "metadata": {
  "kernelspec": {
   "display_name": "Python [conda env:base] *",
   "language": "python",
   "name": "conda-base-py"
  },
  "language_info": {
   "codemirror_mode": {
    "name": "ipython",
    "version": 3
   },
   "file_extension": ".py",
   "mimetype": "text/x-python",
   "name": "python",
   "nbconvert_exporter": "python",
   "pygments_lexer": "ipython3",
   "version": "3.12.7"
  }
 },
 "nbformat": 4,
 "nbformat_minor": 5
}
